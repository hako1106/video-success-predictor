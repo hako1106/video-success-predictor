{
  "nbformat": 4,
  "nbformat_minor": 0,
  "metadata": {
    "colab": {
      "provenance": []
    },
    "kernelspec": {
      "name": "python3",
      "display_name": "Python 3"
    },
    "language_info": {
      "name": "python"
    }
  },
  "cells": [
    {
      "cell_type": "code",
      "source": [
        "import pandas as pd\n",
        "import numpy as np\n",
        "from sklearn.model_selection import train_test_split\n",
        "from sklearn.preprocessing import StandardScaler, LabelEncoder\n",
        "import torch\n",
        "import torch.nn as nn\n",
        "from torch.utils.data import DataLoader, TensorDataset"
      ],
      "metadata": {
        "id": "oyDIXwkWoF2_"
      },
      "execution_count": null,
      "outputs": []
    },
    {
      "cell_type": "code",
      "source": [
        "df = pd.read_csv(\"processed_data.csv\")\n",
        "\n",
        "embedding_caption = np.load(\"embedding_caption_mean.npy\")\n",
        "embedding_script = np.load(\"embedding_script_mean.npy\")"
      ],
      "metadata": {
        "id": "msGBHnVXoV9V"
      },
      "execution_count": null,
      "outputs": []
    },
    {
      "cell_type": "code",
      "source": [
        "features_num = df[[\"is_ad\", \"is_sponsored\", \"author_fans\"]].values\n",
        "np.hstack([embedding_caption, embedding_script])\n",
        "\n",
        "y = df[\"manual_score_log_class_kmeans\"]\n",
        "le = LabelEncoder()\n",
        "y_enc = le.fit_transform(y)"
      ],
      "metadata": {
        "id": "_GnFWhGNYH5y"
      },
      "execution_count": null,
      "outputs": []
    },
    {
      "cell_type": "code",
      "source": [
        "X_text_train, X_text_test, features_num_train, features_num_test, y_train, y_test = train_test_split(\n",
        "    X_text, features_num, y_enc, test_size=0.2, random_state=42, stratify=y_enc\n",
        ")\n",
        "\n",
        "scaler = StandardScaler()\n",
        "features_num_train_scaled = scaler.fit_transform(features_num_train)\n",
        "features_num_test_scaled = scaler.transform(features_num_test)\n",
        "\n",
        "X_train = np.hstack([X_text_train, features_num_train_scaled])\n",
        "X_test = np.hstack([X_text_test, features_num_test_scaled])"
      ],
      "metadata": {
        "id": "JflHGtBrNKHO"
      },
      "execution_count": null,
      "outputs": []
    },
    {
      "cell_type": "code",
      "source": [
        "X_train_tensor = torch.tensor(X_train, dtype=torch.float32)\n",
        "y_train_tensor = torch.tensor(y_train, dtype=torch.long)\n",
        "X_test_tensor = torch.tensor(X_test, dtype=torch.float32)\n",
        "y_test_tensor = torch.tensor(y_test, dtype=torch.long)\n",
        "\n",
        "train_dataset = TensorDataset(X_train_tensor, y_train_tensor)\n",
        "test_dataset = TensorDataset(X_test_tensor, y_test_tensor)\n",
        "train_loader = DataLoader(train_dataset, batch_size=64, shuffle=True)\n",
        "test_loader = DataLoader(test_dataset, batch_size=64)"
      ],
      "metadata": {
        "id": "SU2Rb4wUu9oI"
      },
      "execution_count": null,
      "outputs": []
    },
    {
      "cell_type": "code",
      "source": [
        "class MLPClassifier(nn.Module):\n",
        "    def __init__(self, input_size, num_classes):\n",
        "        super(MLPClassifier, self).__init__()\n",
        "        self.model = nn.Sequential(\n",
        "            nn.Linear(input_size, 128),\n",
        "            nn.BatchNorm1d(128),\n",
        "            nn.LeakyReLU(),\n",
        "            nn.Dropout(0.3),\n",
        "            nn.Linear(128, 64),\n",
        "            nn.BatchNorm1d(64),\n",
        "            nn.LeakyReLU(),\n",
        "            nn.Dropout(0.3),\n",
        "            nn.Linear(64, num_classes)\n",
        "        )\n",
        "\n",
        "    def forward(self, x):\n",
        "        return self.model(x)\n",
        "\n",
        "\n",
        "input_size = X_train.shape[1]\n",
        "num_classes = len(np.unique(y_enc))\n",
        "model = MLPClassifier(input_size, num_classes)"
      ],
      "metadata": {
        "id": "OZLKEyV5vH0l"
      },
      "execution_count": null,
      "outputs": []
    },
    {
      "cell_type": "code",
      "source": [
        "device = torch.device(\"cuda\" if torch.cuda.is_available() else \"cpu\")\n",
        "model = model.to(device)\n",
        "\n",
        "criterion = nn.CrossEntropyLoss()\n",
        "optimizer = torch.optim.Adam(model.parameters(), lr=1e-3, weight_decay=1e-5)\n",
        "epochs = 100\n",
        "\n",
        "loss_history = []\n",
        "acc_history = []\n",
        "\n",
        "best_loss = float('inf')\n",
        "patience = 5\n",
        "counter = 0\n",
        "\n",
        "for epoch in range(epochs):\n",
        "    model.train()\n",
        "    total_loss = 0\n",
        "    correct = 0\n",
        "    total = 0\n",
        "    for xb, yb in train_loader:\n",
        "        xb, yb = xb.to(device), yb.to(device)\n",
        "        optimizer.zero_grad()\n",
        "        outputs = model(xb)\n",
        "        loss = criterion(outputs, yb)\n",
        "        loss.backward()\n",
        "        optimizer.step()\n",
        "        total_loss += loss.item()\n",
        "\n",
        "        preds = torch.argmax(outputs, dim=1)\n",
        "        correct += (preds == yb).sum().item()\n",
        "        total += yb.size(0)\n",
        "\n",
        "    avg_loss = total_loss / len(train_loader)\n",
        "    accuracy = correct / total\n",
        "\n",
        "    loss_history.append(avg_loss)\n",
        "    acc_history.append(accuracy)\n",
        "\n",
        "    print(f\"Epoch {epoch+1}/{epochs} - Loss: {avg_loss:.4f} - Acc: {accuracy:.4f}\")\n",
        "\n",
        "    if avg_loss < best_loss:\n",
        "        best_loss = avg_loss\n",
        "        counter = 0\n",
        "    else:\n",
        "        counter += 1\n",
        "        print(f\"  No improvement. Patience: {counter}/{patience}\")\n",
        "        if counter >= patience:\n",
        "            print(\"Early stopping triggered!\")\n",
        "            break"
      ],
      "metadata": {
        "id": "TBUrrVVUvNz-",
        "colab": {
          "base_uri": "https://localhost:8080/"
        },
        "outputId": "8d4c3a16-5950-4e19-c68e-27b388039fdb"
      },
      "execution_count": null,
      "outputs": [
        {
          "output_type": "stream",
          "name": "stdout",
          "text": [
            "Epoch 1/100 - Loss: 1.0713 - Acc: 0.4240\n",
            "Epoch 2/100 - Loss: 0.8059 - Acc: 0.7602\n",
            "Epoch 3/100 - Loss: 0.6448 - Acc: 0.8779\n",
            "Epoch 4/100 - Loss: 0.5175 - Acc: 0.9058\n",
            "Epoch 5/100 - Loss: 0.4445 - Acc: 0.8951\n",
            "Epoch 6/100 - Loss: 0.3701 - Acc: 0.9229\n",
            "Epoch 7/100 - Loss: 0.3339 - Acc: 0.9165\n",
            "Epoch 8/100 - Loss: 0.2647 - Acc: 0.9379\n",
            "Epoch 9/100 - Loss: 0.2512 - Acc: 0.9507\n",
            "Epoch 10/100 - Loss: 0.2154 - Acc: 0.9657\n",
            "Epoch 11/100 - Loss: 0.1846 - Acc: 0.9700\n",
            "Epoch 12/100 - Loss: 0.1859 - Acc: 0.9700\n",
            "  No improvement. Patience: 1/5\n",
            "Epoch 13/100 - Loss: 0.1571 - Acc: 0.9722\n",
            "Epoch 14/100 - Loss: 0.1727 - Acc: 0.9743\n",
            "  No improvement. Patience: 1/5\n",
            "Epoch 15/100 - Loss: 0.1299 - Acc: 0.9786\n",
            "Epoch 16/100 - Loss: 0.1285 - Acc: 0.9872\n",
            "Epoch 17/100 - Loss: 0.1160 - Acc: 0.9850\n",
            "Epoch 18/100 - Loss: 0.1211 - Acc: 0.9786\n",
            "  No improvement. Patience: 1/5\n",
            "Epoch 19/100 - Loss: 0.0970 - Acc: 0.9872\n",
            "Epoch 20/100 - Loss: 0.0942 - Acc: 0.9893\n",
            "Epoch 21/100 - Loss: 0.0978 - Acc: 0.9786\n",
            "  No improvement. Patience: 1/5\n",
            "Epoch 22/100 - Loss: 0.0851 - Acc: 0.9850\n",
            "Epoch 23/100 - Loss: 0.0901 - Acc: 0.9807\n",
            "  No improvement. Patience: 1/5\n",
            "Epoch 24/100 - Loss: 0.0757 - Acc: 0.9893\n",
            "Epoch 25/100 - Loss: 0.0660 - Acc: 0.9893\n",
            "Epoch 26/100 - Loss: 0.0680 - Acc: 0.9914\n",
            "  No improvement. Patience: 1/5\n",
            "Epoch 27/100 - Loss: 0.0744 - Acc: 0.9829\n",
            "  No improvement. Patience: 2/5\n",
            "Epoch 28/100 - Loss: 0.0721 - Acc: 0.9807\n",
            "  No improvement. Patience: 3/5\n",
            "Epoch 29/100 - Loss: 0.0611 - Acc: 0.9914\n",
            "Epoch 30/100 - Loss: 0.0523 - Acc: 0.9914\n",
            "Epoch 31/100 - Loss: 0.0633 - Acc: 0.9914\n",
            "  No improvement. Patience: 1/5\n",
            "Epoch 32/100 - Loss: 0.0461 - Acc: 0.9914\n",
            "Epoch 33/100 - Loss: 0.0449 - Acc: 0.9893\n",
            "Epoch 34/100 - Loss: 0.0450 - Acc: 0.9893\n",
            "  No improvement. Patience: 1/5\n",
            "Epoch 35/100 - Loss: 0.0535 - Acc: 0.9914\n",
            "  No improvement. Patience: 2/5\n",
            "Epoch 36/100 - Loss: 0.0490 - Acc: 0.9914\n",
            "  No improvement. Patience: 3/5\n",
            "Epoch 37/100 - Loss: 0.0398 - Acc: 0.9936\n",
            "Epoch 38/100 - Loss: 0.0452 - Acc: 0.9850\n",
            "  No improvement. Patience: 1/5\n",
            "Epoch 39/100 - Loss: 0.0403 - Acc: 0.9936\n",
            "  No improvement. Patience: 2/5\n",
            "Epoch 40/100 - Loss: 0.0374 - Acc: 0.9893\n",
            "Epoch 41/100 - Loss: 0.0670 - Acc: 0.9893\n",
            "  No improvement. Patience: 1/5\n",
            "Epoch 42/100 - Loss: 0.0529 - Acc: 0.9850\n",
            "  No improvement. Patience: 2/5\n",
            "Epoch 43/100 - Loss: 0.0335 - Acc: 0.9936\n",
            "Epoch 44/100 - Loss: 0.0408 - Acc: 0.9914\n",
            "  No improvement. Patience: 1/5\n",
            "Epoch 45/100 - Loss: 0.0492 - Acc: 0.9807\n",
            "  No improvement. Patience: 2/5\n",
            "Epoch 46/100 - Loss: 0.0327 - Acc: 0.9893\n",
            "Epoch 47/100 - Loss: 0.0568 - Acc: 0.9829\n",
            "  No improvement. Patience: 1/5\n",
            "Epoch 48/100 - Loss: 0.0537 - Acc: 0.9936\n",
            "  No improvement. Patience: 2/5\n",
            "Epoch 49/100 - Loss: 0.0344 - Acc: 0.9914\n",
            "  No improvement. Patience: 3/5\n",
            "Epoch 50/100 - Loss: 0.0425 - Acc: 0.9872\n",
            "  No improvement. Patience: 4/5\n",
            "Epoch 51/100 - Loss: 0.0415 - Acc: 0.9893\n",
            "  No improvement. Patience: 5/5\n",
            "Early stopping triggered!\n"
          ]
        }
      ]
    },
    {
      "cell_type": "code",
      "source": [
        "epochs_range = range(1, len(loss_history) + 1)\n",
        "\n",
        "fig, ax1 = plt.subplots(figsize=(8,5))\n",
        "\n",
        "color = 'tab:blue'\n",
        "ax1.set_xlabel('Epoch')\n",
        "ax1.set_ylabel('Loss', color=color)\n",
        "ax1.plot(epochs_range, loss_history, color=color, label='Loss')\n",
        "ax1.tick_params(axis='y', labelcolor=color)\n",
        "ax1.grid(True)\n",
        "\n",
        "ax2 = ax1.twinx()\n",
        "color = 'tab:orange'\n",
        "ax2.set_ylabel('Accuracy', color=color)\n",
        "ax2.plot(epochs_range, acc_history, color=color, label='Accuracy')\n",
        "ax2.tick_params(axis='y', labelcolor=color)\n",
        "\n",
        "plt.title('Training Loss and Accuracy per Epoch')\n",
        "fig.tight_layout()\n",
        "plt.show()"
      ],
      "metadata": {
        "colab": {
          "base_uri": "https://localhost:8080/",
          "height": 507
        },
        "id": "8A5dSVgERDzh",
        "outputId": "b6cc735f-c284-4b35-82b4-ebf8dca88dbc"
      },
      "execution_count": null,
      "outputs": [
        {
          "output_type": "display_data",
          "data": {
            "text/plain": [
              "<Figure size 800x500 with 2 Axes>"
            ],
            "image/png": "[encoded data removed]"
          },
          "metadata": {}
        }
      ]
    },
    {
      "cell_type": "code",
      "source": [
        "model.eval()\n",
        "all_preds = []\n",
        "all_labels = []\n",
        "\n",
        "with torch.no_grad():\n",
        "    for xb, yb in test_loader:\n",
        "        xb = xb.to(device)\n",
        "        outputs = model(xb)\n",
        "        preds = torch.argmax(outputs, dim=1).cpu().numpy()\n",
        "        all_preds.extend(preds)\n",
        "        all_labels.extend(yb.numpy())\n",
        "\n",
        "print(\"\\n=== Classification Report ===\")\n",
        "print(classification_report(all_labels, all_preds, target_names=le.classes_))"
      ],
      "metadata": {
        "colab": {
          "base_uri": "https://localhost:8080/"
        },
        "id": "ejB8pCPyvRNI",
        "outputId": "8b790abc-7263-47cc-85a2-bc6aeff203a6"
      },
      "execution_count": null,
      "outputs": [
        {
          "output_type": "stream",
          "name": "stdout",
          "text": [
            "\n",
            "=== Classification Report ===\n",
            "              precision    recall  f1-score   support\n",
            "\n",
            "        high       0.50      0.43      0.46         7\n",
            "         low       0.93      0.94      0.93        96\n",
            "      medium       0.71      0.71      0.71        14\n",
            "\n",
            "    accuracy                           0.88       117\n",
            "   macro avg       0.71      0.69      0.70       117\n",
            "weighted avg       0.88      0.88      0.88       117\n",
            "\n"
          ]
        }
      ]
    }
  ]
}