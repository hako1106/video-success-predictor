{
  "nbformat": 4,
  "nbformat_minor": 0,
  "metadata": {
    "colab": {
      "provenance": []
    },
    "kernelspec": {
      "name": "python3",
      "display_name": "Python 3"
    },
    "language_info": {
      "name": "python"
    }
  },
  "cells": [
    {
      "cell_type": "code",
      "source": [
        "import pandas as pd\n",
        "import numpy as np\n",
        "import matplotlib.pyplot as plt\n",
        "from sklearn.model_selection import train_test_split\n",
        "from sklearn.preprocessing import StandardScaler, LabelEncoder\n",
        "from sklearn.metrics import classification_report\n",
        "import torch\n",
        "import torch.nn as nn\n",
        "from torch.utils.data import DataLoader, TensorDataset"
      ],
      "metadata": {
        "id": "oyDIXwkWoF2_"
      },
      "execution_count": 172,
      "outputs": []
    },
    {
      "cell_type": "code",
      "source": [
        "df = pd.read_csv(\"processed_data.csv\")\n",
        "\n",
        "embedding_caption = np.load(\"embedding_caption_mean.npy\")\n",
        "embedding_script = np.load(\"embedding_script_mean.npy\")"
      ],
      "metadata": {
        "id": "msGBHnVXoV9V"
      },
      "execution_count": 173,
      "outputs": []
    },
    {
      "cell_type": "code",
      "source": [
        "features_num = df[[\"is_ad\", \"is_sponsored\", \"author_fans\"]].values\n",
        "X_text = np.hstack([embedding_caption, embedding_script])\n",
        "\n",
        "y = df[\"manual_score_log_class_qcut\"]\n",
        "le = LabelEncoder()\n",
        "y_enc = le.fit_transform(y)"
      ],
      "metadata": {
        "id": "_GnFWhGNYH5y"
      },
      "execution_count": 174,
      "outputs": []
    },
    {
      "cell_type": "code",
      "source": [
        "X_text_train, X_text_test, features_num_train, features_num_test, y_train, y_test = train_test_split(\n",
        "    X_text, features_num, y_enc, test_size=0.2, random_state=42, stratify=y_enc\n",
        ")\n",
        "\n",
        "scaler = StandardScaler()\n",
        "features_num_train_scaled = scaler.fit_transform(features_num_train)\n",
        "features_num_test_scaled = scaler.transform(features_num_test)\n",
        "\n",
        "X_train = np.hstack([X_text_train, features_num_train_scaled])\n",
        "X_test = np.hstack([X_text_test, features_num_test_scaled])"
      ],
      "metadata": {
        "id": "JflHGtBrNKHO"
      },
      "execution_count": 175,
      "outputs": []
    },
    {
      "cell_type": "code",
      "source": [
        "X_train_tensor = torch.tensor(X_train, dtype=torch.float32)\n",
        "y_train_tensor = torch.tensor(y_train, dtype=torch.long)\n",
        "X_test_tensor = torch.tensor(X_test, dtype=torch.float32)\n",
        "y_test_tensor = torch.tensor(y_test, dtype=torch.long)\n",
        "\n",
        "train_dataset = TensorDataset(X_train_tensor, y_train_tensor)\n",
        "test_dataset = TensorDataset(X_test_tensor, y_test_tensor)\n",
        "train_loader = DataLoader(train_dataset, batch_size=64, shuffle=True)\n",
        "test_loader = DataLoader(test_dataset, batch_size=64)"
      ],
      "metadata": {
        "id": "SU2Rb4wUu9oI"
      },
      "execution_count": 176,
      "outputs": []
    },
    {
      "cell_type": "code",
      "source": [
        "class MLPClassifier(nn.Module):\n",
        "    def __init__(self, input_size, num_classes):\n",
        "        super(MLPClassifier, self).__init__()\n",
        "        self.model = nn.Sequential(\n",
        "            nn.Linear(input_size, 128),\n",
        "            nn.BatchNorm1d(128),\n",
        "            nn.LeakyReLU(),\n",
        "            nn.Dropout(0.3),\n",
        "            nn.Linear(128, 64),\n",
        "            nn.BatchNorm1d(64),\n",
        "            nn.LeakyReLU(),\n",
        "            nn.Dropout(0.3),\n",
        "            nn.Linear(64, num_classes)\n",
        "        )\n",
        "\n",
        "    def forward(self, x):\n",
        "        return self.model(x)\n",
        "\n",
        "\n",
        "input_size = X_train.shape[1]\n",
        "num_classes = len(np.unique(y_enc))\n",
        "model = MLPClassifier(input_size, num_classes)"
      ],
      "metadata": {
        "id": "OZLKEyV5vH0l"
      },
      "execution_count": 177,
      "outputs": []
    },
    {
      "cell_type": "code",
      "source": [
        "device = torch.device(\"cuda\" if torch.cuda.is_available() else \"cpu\")\n",
        "model = model.to(device)\n",
        "\n",
        "criterion = nn.CrossEntropyLoss()\n",
        "optimizer = torch.optim.Adam(model.parameters(), lr=1e-4, weight_decay=1e-4)\n",
        "epochs = 100\n",
        "\n",
        "loss_history = []\n",
        "acc_history = []\n",
        "\n",
        "best_loss = float('inf')\n",
        "patience = 3\n",
        "counter = 0\n",
        "\n",
        "for epoch in range(epochs):\n",
        "    model.train()\n",
        "    total_loss = 0\n",
        "    correct = 0\n",
        "    total = 0\n",
        "    for xb, yb in train_loader:\n",
        "        xb, yb = xb.to(device), yb.to(device)\n",
        "        optimizer.zero_grad()\n",
        "        outputs = model(xb)\n",
        "        loss = criterion(outputs, yb)\n",
        "        loss.backward()\n",
        "        optimizer.step()\n",
        "        total_loss += loss.item()\n",
        "\n",
        "        preds = torch.argmax(outputs, dim=1)\n",
        "        correct += (preds == yb).sum().item()\n",
        "        total += yb.size(0)\n",
        "\n",
        "    avg_loss = total_loss / len(train_loader)\n",
        "    accuracy = correct / total\n",
        "\n",
        "    loss_history.append(avg_loss)\n",
        "    acc_history.append(accuracy)\n",
        "\n",
        "    print(f\"Epoch {epoch+1}/{epochs} - Loss: {avg_loss:.4f} - Acc: {accuracy:.4f}\")\n",
        "\n",
        "    if avg_loss < best_loss:\n",
        "        best_loss = avg_loss\n",
        "        counter = 0\n",
        "    else:\n",
        "        counter += 1\n",
        "        print(f\"  No improvement. Patience: {counter}/{patience}\")\n",
        "        if counter >= patience:\n",
        "            print(\"Early stopping triggered!\")\n",
        "            break"
      ],
      "metadata": {
        "id": "TBUrrVVUvNz-",
        "colab": {
          "base_uri": "https://localhost:8080/"
        },
        "outputId": "5427945f-af8d-479f-adf4-069ebc32fd3d"
      },
      "execution_count": 178,
      "outputs": [
        {
          "output_type": "stream",
          "name": "stdout",
          "text": [
            "Epoch 1/100 - Loss: 1.1548 - Acc: 0.3597\n",
            "Epoch 2/100 - Loss: 1.1088 - Acc: 0.4133\n",
            "Epoch 3/100 - Loss: 1.0759 - Acc: 0.4261\n",
            "Epoch 4/100 - Loss: 1.0348 - Acc: 0.5011\n",
            "Epoch 5/100 - Loss: 0.9802 - Acc: 0.5353\n",
            "Epoch 6/100 - Loss: 0.9280 - Acc: 0.5846\n",
            "Epoch 7/100 - Loss: 0.9249 - Acc: 0.5696\n",
            "Epoch 8/100 - Loss: 0.8989 - Acc: 0.6017\n",
            "Epoch 9/100 - Loss: 0.8588 - Acc: 0.6552\n",
            "Epoch 10/100 - Loss: 0.8615 - Acc: 0.6745\n",
            "  No improvement. Patience: 1/3\n",
            "Epoch 11/100 - Loss: 0.8078 - Acc: 0.7109\n",
            "Epoch 12/100 - Loss: 0.8049 - Acc: 0.7216\n",
            "Epoch 13/100 - Loss: 0.7701 - Acc: 0.7216\n",
            "Epoch 14/100 - Loss: 0.7172 - Acc: 0.7816\n",
            "Epoch 15/100 - Loss: 0.7295 - Acc: 0.7473\n",
            "  No improvement. Patience: 1/3\n",
            "Epoch 16/100 - Loss: 0.7300 - Acc: 0.7730\n",
            "  No improvement. Patience: 2/3\n",
            "Epoch 17/100 - Loss: 0.6952 - Acc: 0.7987\n",
            "Epoch 18/100 - Loss: 0.7166 - Acc: 0.7944\n",
            "  No improvement. Patience: 1/3\n",
            "Epoch 19/100 - Loss: 0.6525 - Acc: 0.8351\n",
            "Epoch 20/100 - Loss: 0.6636 - Acc: 0.8073\n",
            "  No improvement. Patience: 1/3\n",
            "Epoch 21/100 - Loss: 0.6632 - Acc: 0.8137\n",
            "  No improvement. Patience: 2/3\n",
            "Epoch 22/100 - Loss: 0.6138 - Acc: 0.8694\n",
            "Epoch 23/100 - Loss: 0.6085 - Acc: 0.8394\n",
            "Epoch 24/100 - Loss: 0.5972 - Acc: 0.8522\n",
            "Epoch 25/100 - Loss: 0.5993 - Acc: 0.8544\n",
            "  No improvement. Patience: 1/3\n",
            "Epoch 26/100 - Loss: 0.5513 - Acc: 0.8929\n",
            "Epoch 27/100 - Loss: 0.5590 - Acc: 0.8822\n",
            "  No improvement. Patience: 1/3\n",
            "Epoch 28/100 - Loss: 0.5149 - Acc: 0.8929\n",
            "Epoch 29/100 - Loss: 0.5168 - Acc: 0.9015\n",
            "  No improvement. Patience: 1/3\n",
            "Epoch 30/100 - Loss: 0.4920 - Acc: 0.9143\n",
            "Epoch 31/100 - Loss: 0.4707 - Acc: 0.9208\n",
            "Epoch 32/100 - Loss: 0.4811 - Acc: 0.9208\n",
            "  No improvement. Patience: 1/3\n",
            "Epoch 33/100 - Loss: 0.4557 - Acc: 0.9272\n",
            "Epoch 34/100 - Loss: 0.4139 - Acc: 0.9272\n",
            "Epoch 35/100 - Loss: 0.4476 - Acc: 0.9358\n",
            "  No improvement. Patience: 1/3\n",
            "Epoch 36/100 - Loss: 0.4241 - Acc: 0.9208\n",
            "  No improvement. Patience: 2/3\n",
            "Epoch 37/100 - Loss: 0.4222 - Acc: 0.9293\n",
            "  No improvement. Patience: 3/3\n",
            "Early stopping triggered!\n"
          ]
        }
      ]
    },
    {
      "cell_type": "code",
      "source": [
        "epochs_range = range(1, len(loss_history) + 1)\n",
        "\n",
        "fig, ax1 = plt.subplots(figsize=(8,5))\n",
        "\n",
        "color = 'tab:blue'\n",
        "ax1.set_xlabel('Epoch')\n",
        "ax1.set_ylabel('Loss', color=color)\n",
        "ax1.plot(epochs_range, loss_history, color=color, label='Loss')\n",
        "ax1.tick_params(axis='y', labelcolor=color)\n",
        "ax1.grid(True)\n",
        "\n",
        "ax2 = ax1.twinx()\n",
        "color = 'tab:orange'\n",
        "ax2.set_ylabel('Accuracy', color=color)\n",
        "ax2.plot(epochs_range, acc_history, color=color, label='Accuracy')\n",
        "ax2.tick_params(axis='y', labelcolor=color)\n",
        "\n",
        "plt.title('Training Loss and Accuracy per Epoch')\n",
        "fig.tight_layout()\n",
        "plt.show()"
      ],
      "metadata": {
        "colab": {
          "base_uri": "https://localhost:8080/",
          "height": 507
        },
        "id": "8A5dSVgERDzh",
        "outputId": "4046205d-b50c-49d7-9f92-0db962957773"
      },
      "execution_count": 179,
      "outputs": [
        {
          "output_type": "display_data",
          "data": {
            "text/plain": [
              "<Figure size 800x500 with 2 Axes>"
            ],
            "image/png": "[encoded data removed]"
          },
          "metadata": {}
        }
      ]
    },
    {
      "cell_type": "code",
      "source": [
        "model.eval()\n",
        "all_preds = []\n",
        "all_labels = []\n",
        "\n",
        "with torch.no_grad():\n",
        "    for xb, yb in test_loader:\n",
        "        xb = xb.to(device)\n",
        "        outputs = model(xb)\n",
        "        preds = torch.argmax(outputs, dim=1).cpu().numpy()\n",
        "        all_preds.extend(preds)\n",
        "        all_labels.extend(yb.numpy())\n",
        "\n",
        "print(\"\\n=== Classification Report ===\")\n",
        "print(classification_report(all_labels, all_preds, target_names=le.classes_))"
      ],
      "metadata": {
        "colab": {
          "base_uri": "https://localhost:8080/"
        },
        "id": "ejB8pCPyvRNI",
        "outputId": "67b6b92e-9f8a-4f5e-e9c7-ff043e6a967f"
      },
      "execution_count": 180,
      "outputs": [
        {
          "output_type": "stream",
          "name": "stdout",
          "text": [
            "\n",
            "=== Classification Report ===\n",
            "              precision    recall  f1-score   support\n",
            "\n",
            "        high       0.36      0.26      0.30        19\n",
            "         low       0.49      0.58      0.53        53\n",
            "      medium       0.40      0.36      0.38        45\n",
            "\n",
            "    accuracy                           0.44       117\n",
            "   macro avg       0.42      0.40      0.40       117\n",
            "weighted avg       0.43      0.44      0.44       117\n",
            "\n"
          ]
        }
      ]
    },
    {
      "cell_type": "code",
      "source": [
        "torch.save(model.state_dict(), 'mlp_classifier_qcut.pth')"
      ],
      "metadata": {
        "id": "Zim_JWLrkavt"
      },
      "execution_count": 181,
      "outputs": []
    }
  ]
}