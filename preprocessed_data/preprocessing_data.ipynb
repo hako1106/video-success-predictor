{
  "nbformat": 4,
  "nbformat_minor": 0,
  "metadata": {
    "colab": {
      "provenance": []
    },
    "kernelspec": {
      "name": "python3",
      "display_name": "Python 3"
    },
    "language_info": {
      "name": "python"
    }
  },
  "cells": [
    {
      "cell_type": "code",
      "source": [
        "import pandas as pd\n",
        "import requests\n",
        "import re\n",
        "import os"
      ],
      "metadata": {
        "id": "UzCVZ5oVT-_1"
      },
      "execution_count": null,
      "outputs": []
    },
    {
      "cell_type": "markdown",
      "source": [
        "# **Use #reviewkhachsan193.csv to get required column**"
      ],
      "metadata": {
        "id": "1GWZzTpqZGQJ"
      }
    },
    {
      "cell_type": "code",
      "source": [
        "df = pd.read_csv(\"/content/drive/MyDrive/pizza/CÔNG NGHỆ ĐỔI MỚI (1)/CUỐI KỲ/UP file csv lên/#reviewkhachsan193.csv\")"
      ],
      "metadata": {
        "id": "_x1BY_N2UHFJ"
      },
      "execution_count": null,
      "outputs": []
    },
    {
      "cell_type": "code",
      "source": [
        "df.head(2)"
      ],
      "metadata": {
        "colab": {
          "base_uri": "https://localhost:8080/",
          "height": 375
        },
        "id": "qDVAmSQVUUAv",
        "outputId": "97b37ea8-b2a2-4228-fb0a-18c6175b2fc9"
      },
      "execution_count": null,
      "outputs": [
        {
          "output_type": "execute_result",
          "data": {
            "text/plain": [
              "   authorMeta/digg  authorMeta/fans  authorMeta/heart  \\\n",
              "0               42               33              2553   \n",
              "1             1969            11500            215000   \n",
              "\n",
              "                                         webVideoUrl   isAd  isSponsored  \\\n",
              "0  https://www.tiktok.com/@coinecoinee/video/7502...  False        False   \n",
              "1  https://www.tiktok.com/@tony_khoa/video/740338...  False        False   \n",
              "\n",
              "   playCount  diggCount  commentCount  shareCount  videoMeta/duration  \\\n",
              "0        907         42             2           5                 132   \n",
              "1      10300         36             3          35                  60   \n",
              "\n",
              "              videoMeta/subtitleLinks/1/downloadLink  \\\n",
              "0  https://api.apify.com/v2/key-value-stores/Qivr...   \n",
              "1  https://api.apify.com/v2/key-value-stores/Qivr...   \n",
              "\n",
              "                                                text  \n",
              "0  Review khách sạn view triệu đô giữa lòng Bangk...  \n",
              "1  Midas hotel khách sạn đẹp giữa trung tâm phú n...  "
            ],
            "text/html": [
              "\n",
              "  <div id=\"df-b8237042-df7a-4810-a8ba-9f847168cc29\" class=\"colab-df-container\">\n",
              "    <div>\n",
              "<style scoped>\n",
              "    .dataframe tbody tr th:only-of-type {\n",
              "        vertical-align: middle;\n",
              "    }\n",
              "\n",
              "    .dataframe tbody tr th {\n",
              "        vertical-align: top;\n",
              "    }\n",
              "\n",
              "    .dataframe thead th {\n",
              "        text-align: right;\n",
              "    }\n",
              "</style>\n",
              "<table border=\"1\" class=\"dataframe\">\n",
              "  <thead>\n",
              "    <tr style=\"text-align: right;\">\n",
              "      <th></th>\n",
              "      <th>authorMeta/digg</th>\n",
              "      <th>authorMeta/fans</th>\n",
              "      <th>authorMeta/heart</th>\n",
              "      <th>webVideoUrl</th>\n",
              "      <th>isAd</th>\n",
              "      <th>isSponsored</th>\n",
              "      <th>playCount</th>\n",
              "      <th>diggCount</th>\n",
              "      <th>commentCount</th>\n",
              "      <th>shareCount</th>\n",
              "      <th>videoMeta/duration</th>\n",
              "      <th>videoMeta/subtitleLinks/1/downloadLink</th>\n",
              "      <th>text</th>\n",
              "    </tr>\n",
              "  </thead>\n",
              "  <tbody>\n",
              "    <tr>\n",
              "      <th>0</th>\n",
              "      <td>42</td>\n",
              "      <td>33</td>\n",
              "      <td>2553</td>\n",
              "      <td>https://www.tiktok.com/@coinecoinee/video/7502...</td>\n",
              "      <td>False</td>\n",
              "      <td>False</td>\n",
              "      <td>907</td>\n",
              "      <td>42</td>\n",
              "      <td>2</td>\n",
              "      <td>5</td>\n",
              "      <td>132</td>\n",
              "      <td>https://api.apify.com/v2/key-value-stores/Qivr...</td>\n",
              "      <td>Review khách sạn view triệu đô giữa lòng Bangk...</td>\n",
              "    </tr>\n",
              "    <tr>\n",
              "      <th>1</th>\n",
              "      <td>1969</td>\n",
              "      <td>11500</td>\n",
              "      <td>215000</td>\n",
              "      <td>https://www.tiktok.com/@tony_khoa/video/740338...</td>\n",
              "      <td>False</td>\n",
              "      <td>False</td>\n",
              "      <td>10300</td>\n",
              "      <td>36</td>\n",
              "      <td>3</td>\n",
              "      <td>35</td>\n",
              "      <td>60</td>\n",
              "      <td>https://api.apify.com/v2/key-value-stores/Qivr...</td>\n",
              "      <td>Midas hotel khách sạn đẹp giữa trung tâm phú n...</td>\n",
              "    </tr>\n",
              "  </tbody>\n",
              "</table>\n",
              "</div>\n",
              "    <div class=\"colab-df-buttons\">\n",
              "\n",
              "  <div class=\"colab-df-container\">\n",
              "    <button class=\"colab-df-convert\" onclick=\"convertToInteractive('df-b8237042-df7a-4810-a8ba-9f847168cc29')\"\n",
              "            title=\"Convert this dataframe to an interactive table.\"\n",
              "            style=\"display:none;\">\n",
              "\n",
              "  <svg xmlns=\"http://www.w3.org/2000/svg\" height=\"24px\" viewBox=\"0 -960 960 960\">\n",
              "    <path d=\"M120-120v-720h720v720H120Zm60-500h600v-160H180v160Zm220 220h160v-160H400v160Zm0 220h160v-160H400v160ZM180-400h160v-160H180v160Zm440 0h160v-160H620v160ZM180-180h160v-160H180v160Zm440 0h160v-160H620v160Z\"/>\n",
              "  </svg>\n",
              "    </button>\n",
              "\n",
              "  <style>\n",
              "    .colab-df-container {\n",
              "      display:flex;\n",
              "      gap: 12px;\n",
              "    }\n",
              "\n",
              "    .colab-df-convert {\n",
              "      background-color: #E8F0FE;\n",
              "      border: none;\n",
              "      border-radius: 50%;\n",
              "      cursor: pointer;\n",
              "      display: none;\n",
              "      fill: #1967D2;\n",
              "      height: 32px;\n",
              "      padding: 0 0 0 0;\n",
              "      width: 32px;\n",
              "    }\n",
              "\n",
              "    .colab-df-convert:hover {\n",
              "      background-color: #E2EBFA;\n",
              "      box-shadow: 0px 1px 2px rgba(60, 64, 67, 0.3), 0px 1px 3px 1px rgba(60, 64, 67, 0.15);\n",
              "      fill: #174EA6;\n",
              "    }\n",
              "\n",
              "    .colab-df-buttons div {\n",
              "      margin-bottom: 4px;\n",
              "    }\n",
              "\n",
              "    [theme=dark] .colab-df-convert {\n",
              "      background-color: #3B4455;\n",
              "      fill: #D2E3FC;\n",
              "    }\n",
              "\n",
              "    [theme=dark] .colab-df-convert:hover {\n",
              "      background-color: #434B5C;\n",
              "      box-shadow: 0px 1px 3px 1px rgba(0, 0, 0, 0.15);\n",
              "      filter: drop-shadow(0px 1px 2px rgba(0, 0, 0, 0.3));\n",
              "      fill: #FFFFFF;\n",
              "    }\n",
              "  </style>\n",
              "\n",
              "    <script>\n",
              "      const buttonEl =\n",
              "        document.querySelector('#df-b8237042-df7a-4810-a8ba-9f847168cc29 button.colab-df-convert');\n",
              "      buttonEl.style.display =\n",
              "        google.colab.kernel.accessAllowed ? 'block' : 'none';\n",
              "\n",
              "      async function convertToInteractive(key) {\n",
              "        const element = document.querySelector('#df-b8237042-df7a-4810-a8ba-9f847168cc29');\n",
              "        const dataTable =\n",
              "          await google.colab.kernel.invokeFunction('convertToInteractive',\n",
              "                                                    [key], {});\n",
              "        if (!dataTable) return;\n",
              "\n",
              "        const docLinkHtml = 'Like what you see? Visit the ' +\n",
              "          '<a target=\"_blank\" href=https://colab.research.google.com/notebooks/data_table.ipynb>data table notebook</a>'\n",
              "          + ' to learn more about interactive tables.';\n",
              "        element.innerHTML = '';\n",
              "        dataTable['output_type'] = 'display_data';\n",
              "        await google.colab.output.renderOutput(dataTable, element);\n",
              "        const docLink = document.createElement('div');\n",
              "        docLink.innerHTML = docLinkHtml;\n",
              "        element.appendChild(docLink);\n",
              "      }\n",
              "    </script>\n",
              "  </div>\n",
              "\n",
              "\n",
              "    <div id=\"df-6f92c51b-a997-450b-9438-ea24a1385ab6\">\n",
              "      <button class=\"colab-df-quickchart\" onclick=\"quickchart('df-6f92c51b-a997-450b-9438-ea24a1385ab6')\"\n",
              "                title=\"Suggest charts\"\n",
              "                style=\"display:none;\">\n",
              "\n",
              "<svg xmlns=\"http://www.w3.org/2000/svg\" height=\"24px\"viewBox=\"0 0 24 24\"\n",
              "     width=\"24px\">\n",
              "    <g>\n",
              "        <path d=\"M19 3H5c-1.1 0-2 .9-2 2v14c0 1.1.9 2 2 2h14c1.1 0 2-.9 2-2V5c0-1.1-.9-2-2-2zM9 17H7v-7h2v7zm4 0h-2V7h2v10zm4 0h-2v-4h2v4z\"/>\n",
              "    </g>\n",
              "</svg>\n",
              "      </button>\n",
              "\n",
              "<style>\n",
              "  .colab-df-quickchart {\n",
              "      --bg-color: #E8F0FE;\n",
              "      --fill-color: #1967D2;\n",
              "      --hover-bg-color: #E2EBFA;\n",
              "      --hover-fill-color: #174EA6;\n",
              "      --disabled-fill-color: #AAA;\n",
              "      --disabled-bg-color: #DDD;\n",
              "  }\n",
              "\n",
              "  [theme=dark] .colab-df-quickchart {\n",
              "      --bg-color: #3B4455;\n",
              "      --fill-color: #D2E3FC;\n",
              "      --hover-bg-color: #434B5C;\n",
              "      --hover-fill-color: #FFFFFF;\n",
              "      --disabled-bg-color: #3B4455;\n",
              "      --disabled-fill-color: #666;\n",
              "  }\n",
              "\n",
              "  .colab-df-quickchart {\n",
              "    background-color: var(--bg-color);\n",
              "    border: none;\n",
              "    border-radius: 50%;\n",
              "    cursor: pointer;\n",
              "    display: none;\n",
              "    fill: var(--fill-color);\n",
              "    height: 32px;\n",
              "    padding: 0;\n",
              "    width: 32px;\n",
              "  }\n",
              "\n",
              "  .colab-df-quickchart:hover {\n",
              "    background-color: var(--hover-bg-color);\n",
              "    box-shadow: 0 1px 2px rgba(60, 64, 67, 0.3), 0 1px 3px 1px rgba(60, 64, 67, 0.15);\n",
              "    fill: var(--button-hover-fill-color);\n",
              "  }\n",
              "\n",
              "  .colab-df-quickchart-complete:disabled,\n",
              "  .colab-df-quickchart-complete:disabled:hover {\n",
              "    background-color: var(--disabled-bg-color);\n",
              "    fill: var(--disabled-fill-color);\n",
              "    box-shadow: none;\n",
              "  }\n",
              "\n",
              "  .colab-df-spinner {\n",
              "    border: 2px solid var(--fill-color);\n",
              "    border-color: transparent;\n",
              "    border-bottom-color: var(--fill-color);\n",
              "    animation:\n",
              "      spin 1s steps(1) infinite;\n",
              "  }\n",
              "\n",
              "  @keyframes spin {\n",
              "    0% {\n",
              "      border-color: transparent;\n",
              "      border-bottom-color: var(--fill-color);\n",
              "      border-left-color: var(--fill-color);\n",
              "    }\n",
              "    20% {\n",
              "      border-color: transparent;\n",
              "      border-left-color: var(--fill-color);\n",
              "      border-top-color: var(--fill-color);\n",
              "    }\n",
              "    30% {\n",
              "      border-color: transparent;\n",
              "      border-left-color: var(--fill-color);\n",
              "      border-top-color: var(--fill-color);\n",
              "      border-right-color: var(--fill-color);\n",
              "    }\n",
              "    40% {\n",
              "      border-color: transparent;\n",
              "      border-right-color: var(--fill-color);\n",
              "      border-top-color: var(--fill-color);\n",
              "    }\n",
              "    60% {\n",
              "      border-color: transparent;\n",
              "      border-right-color: var(--fill-color);\n",
              "    }\n",
              "    80% {\n",
              "      border-color: transparent;\n",
              "      border-right-color: var(--fill-color);\n",
              "      border-bottom-color: var(--fill-color);\n",
              "    }\n",
              "    90% {\n",
              "      border-color: transparent;\n",
              "      border-bottom-color: var(--fill-color);\n",
              "    }\n",
              "  }\n",
              "</style>\n",
              "\n",
              "      <script>\n",
              "        async function quickchart(key) {\n",
              "          const quickchartButtonEl =\n",
              "            document.querySelector('#' + key + ' button');\n",
              "          quickchartButtonEl.disabled = true;  // To prevent multiple clicks.\n",
              "          quickchartButtonEl.classList.add('colab-df-spinner');\n",
              "          try {\n",
              "            const charts = await google.colab.kernel.invokeFunction(\n",
              "                'suggestCharts', [key], {});\n",
              "          } catch (error) {\n",
              "            console.error('Error during call to suggestCharts:', error);\n",
              "          }\n",
              "          quickchartButtonEl.classList.remove('colab-df-spinner');\n",
              "          quickchartButtonEl.classList.add('colab-df-quickchart-complete');\n",
              "        }\n",
              "        (() => {\n",
              "          let quickchartButtonEl =\n",
              "            document.querySelector('#df-6f92c51b-a997-450b-9438-ea24a1385ab6 button');\n",
              "          quickchartButtonEl.style.display =\n",
              "            google.colab.kernel.accessAllowed ? 'block' : 'none';\n",
              "        })();\n",
              "      </script>\n",
              "    </div>\n",
              "\n",
              "    </div>\n",
              "  </div>\n"
            ],
            "application/vnd.google.colaboratory.intrinsic+json": {
              "type": "dataframe",
              "variable_name": "df",
              "summary": "{\n  \"name\": \"df\",\n  \"rows\": 43,\n  \"fields\": [\n    {\n      \"column\": \"authorMeta/digg\",\n      \"properties\": {\n        \"dtype\": \"number\",\n        \"std\": 4476,\n        \"min\": 16,\n        \"max\": 17600,\n        \"num_unique_values\": 37,\n        \"samples\": [\n          16,\n          3753,\n          900\n        ],\n        \"semantic_type\": \"\",\n        \"description\": \"\"\n      }\n    },\n    {\n      \"column\": \"authorMeta/fans\",\n      \"properties\": {\n        \"dtype\": \"number\",\n        \"std\": 150147,\n        \"min\": 33,\n        \"max\": 672400,\n        \"num_unique_values\": 37,\n        \"samples\": [\n          34,\n          59900,\n          1076\n        ],\n        \"semantic_type\": \"\",\n        \"description\": \"\"\n      }\n    },\n    {\n      \"column\": \"authorMeta/heart\",\n      \"properties\": {\n        \"dtype\": \"number\",\n        \"std\": 3405373,\n        \"min\": 152,\n        \"max\": 14400000,\n        \"num_unique_values\": 37,\n        \"samples\": [\n          152,\n          340100,\n          4642\n        ],\n        \"semantic_type\": \"\",\n        \"description\": \"\"\n      }\n    },\n    {\n      \"column\": \"webVideoUrl\",\n      \"properties\": {\n        \"dtype\": \"string\",\n        \"num_unique_values\": 43,\n        \"samples\": [\n          \"https://www.tiktok.com/@xiuthuhai/video/7391744189446311175\",\n          \"https://www.tiktok.com/@lacadanang.tiktok/video/7497989248482610439\",\n          \"https://www.tiktok.com/@khachsanbluesea/video/7500529806774177031\"\n        ],\n        \"semantic_type\": \"\",\n        \"description\": \"\"\n      }\n    },\n    {\n      \"column\": \"isAd\",\n      \"properties\": {\n        \"dtype\": \"boolean\",\n        \"num_unique_values\": 1,\n        \"samples\": [\n          false\n        ],\n        \"semantic_type\": \"\",\n        \"description\": \"\"\n      }\n    },\n    {\n      \"column\": \"isSponsored\",\n      \"properties\": {\n        \"dtype\": \"boolean\",\n        \"num_unique_values\": 1,\n        \"samples\": [\n          false\n        ],\n        \"semantic_type\": \"\",\n        \"description\": \"\"\n      }\n    },\n    {\n      \"column\": \"playCount\",\n      \"properties\": {\n        \"dtype\": \"number\",\n        \"std\": 569915,\n        \"min\": 907,\n        \"max\": 2500000,\n        \"num_unique_values\": 43,\n        \"samples\": [\n          268900\n        ],\n        \"semantic_type\": \"\",\n        \"description\": \"\"\n      }\n    },\n    {\n      \"column\": \"diggCount\",\n      \"properties\": {\n        \"dtype\": \"number\",\n        \"std\": 13616,\n        \"min\": 10,\n        \"max\": 76800,\n        \"num_unique_values\": 43,\n        \"samples\": [\n          5447\n        ],\n        \"semantic_type\": \"\",\n        \"description\": \"\"\n      }\n    },\n    {\n      \"column\": \"commentCount\",\n      \"properties\": {\n        \"dtype\": \"number\",\n        \"std\": 388,\n        \"min\": 1,\n        \"max\": 1853,\n        \"num_unique_values\": 39,\n        \"samples\": [\n          167\n        ],\n        \"semantic_type\": \"\",\n        \"description\": \"\"\n      }\n    },\n    {\n      \"column\": \"shareCount\",\n      \"properties\": {\n        \"dtype\": \"number\",\n        \"std\": 1462,\n        \"min\": 0,\n        \"max\": 6368,\n        \"num_unique_values\": 41,\n        \"samples\": [\n          3584\n        ],\n        \"semantic_type\": \"\",\n        \"description\": \"\"\n      }\n    },\n    {\n      \"column\": \"videoMeta/duration\",\n      \"properties\": {\n        \"dtype\": \"number\",\n        \"std\": 42,\n        \"min\": 18,\n        \"max\": 229,\n        \"num_unique_values\": 33,\n        \"samples\": [\n          24\n        ],\n        \"semantic_type\": \"\",\n        \"description\": \"\"\n      }\n    },\n    {\n      \"column\": \"videoMeta/subtitleLinks/1/downloadLink\",\n      \"properties\": {\n        \"dtype\": \"string\",\n        \"num_unique_values\": 43,\n        \"samples\": [\n          \"https://api.apify.com/v2/key-value-stores/QivrEtwtUGf4X1bXg/records/subtitle-xiuthuhai-20240715062243-7391744189446311175-vie-VN\"\n        ],\n        \"semantic_type\": \"\",\n        \"description\": \"\"\n      }\n    },\n    {\n      \"column\": \"text\",\n      \"properties\": {\n        \"dtype\": \"string\",\n        \"num_unique_values\": 43,\n        \"samples\": [\n          \"V\\u1edbi gi\\u00e1 ch\\u01b0a \\u0111\\u1ebfn 300\\ud83d\\udc20 m\\u00e0 thu\\u00ea \\u0111\\u01b0\\u1ee3c kh\\u00e1ch s\\u1ea1n nh\\u01b0 n\\u00e0y \\u1edf Nha Trang. C\\u00f3 r\\u1ebb qu\\u00e1 hong d\\u1ecdooo? #viral #betixiuriviu #nhatrang #senia #dulich #xuhuong\"\n        ],\n        \"semantic_type\": \"\",\n        \"description\": \"\"\n      }\n    }\n  ]\n}"
            }
          },
          "metadata": {},
          "execution_count": 4
        }
      ]
    },
    {
      "cell_type": "code",
      "source": [
        "df.columns.to_list()"
      ],
      "metadata": {
        "colab": {
          "base_uri": "https://localhost:8080/"
        },
        "id": "m1ae3rWJUZxs",
        "outputId": "00c0dac5-87ef-47f1-db37-0327beb3b813"
      },
      "execution_count": null,
      "outputs": [
        {
          "output_type": "execute_result",
          "data": {
            "text/plain": [
              "['authorMeta/digg',\n",
              " 'authorMeta/fans',\n",
              " 'authorMeta/heart',\n",
              " 'webVideoUrl',\n",
              " 'isAd',\n",
              " 'isSponsored',\n",
              " 'playCount',\n",
              " 'diggCount',\n",
              " 'commentCount',\n",
              " 'shareCount',\n",
              " 'videoMeta/duration',\n",
              " 'videoMeta/subtitleLinks/1/downloadLink',\n",
              " 'text']"
            ]
          },
          "metadata": {},
          "execution_count": 5
        }
      ]
    },
    {
      "cell_type": "markdown",
      "source": [
        "# **Process all files**\n",
        "\n"
      ],
      "metadata": {
        "id": "G7dIZ7vXZTOQ"
      }
    },
    {
      "cell_type": "code",
      "source": [
        "# Đường dẫn tới thư mục chứa các tệp CSV\n",
        "folder_path = '/content/drive/MyDrive/pizza/CÔNG NGHỆ ĐỔI MỚI (1)/CUỐI KỲ/UP file csv lên/excel/'\n",
        "\n",
        "# Danh sách các cột cần giữ lại\n",
        "columns_to_keep = [\n",
        "    'authorMeta/digg',\n",
        "    'authorMeta/fans',\n",
        "    'authorMeta/heart',\n",
        "    'webVideoUrl',\n",
        "    'isAd',\n",
        "    'isSponsored',\n",
        "    'playCount',\n",
        "    'diggCount',\n",
        "    'commentCount',\n",
        "    'shareCount',\n",
        "    'videoMeta/duration',\n",
        "    'videoMeta/subtitleLinks/1/downloadLink',\n",
        "    'text'\n",
        "]\n",
        "\n",
        "# Lấy danh sách tất cả các tệp CSV trong thư mục\n",
        "csv_files = [f for f in os.listdir(folder_path) if f.endswith('.csv')]\n",
        "\n",
        "# Nếu có tệp CSV hợp lệ trong thư mục\n",
        "if csv_files:\n",
        "    # Danh sách lưu trữ các DataFrame đã xử lý\n",
        "    processed_data = []\n",
        "\n",
        "    # Duyệt qua tất cả các tệp CSV\n",
        "    for csv_file in csv_files:\n",
        "        file_path = os.path.join(folder_path, csv_file)\n",
        "\n",
        "        # Đọc tệp CSV vào DataFrame\n",
        "        df = pd.read_csv(file_path)\n",
        "\n",
        "        # Kiểm tra nếu cột videoMeta/subtitleLinks/1/downloadLink có trong DataFrame\n",
        "        if 'videoMeta/subtitleLinks/1/downloadLink' in df.columns:\n",
        "            # Chỉ giữ lại các cột yêu cầu\n",
        "            df = df[columns_to_keep]\n",
        "\n",
        "            # Lọc các dòng không có giá trị null ở cột videoMeta/subtitleLinks/1/downloadLink\n",
        "            df = df[df['videoMeta/subtitleLinks/1/downloadLink'].notnull()]\n",
        "\n",
        "            # Sắp xếp các cột theo đúng thứ tự yêu cầu\n",
        "            df = df[columns_to_keep]\n",
        "\n",
        "            # In tên tệp đã đọc\n",
        "            print(f\"Đã đọc tệp: {csv_file}\")\n",
        "\n",
        "            # Thêm DataFrame đã xử lý vào danh sách\n",
        "            processed_data.append(df)\n",
        "\n",
        "    # Nếu có dữ liệu đã được xử lý, kết hợp tất cả vào một DataFrame duy nhất\n",
        "    if processed_data:\n",
        "        final_df = pd.concat(processed_data, ignore_index=True)\n",
        "\n",
        "        # Hiển thị một số dòng đầu tiên của kết quả\n",
        "        print(final_df.head(2))\n",
        "\n",
        "        # Nếu muốn lưu kết quả vào một tệp CSV mới\n",
        "        # final_df.to_csv('/content/drive/MyDrive/output_file.csv', index=False)\n",
        "    else:\n",
        "        print(\"Không có dữ liệu hợp lệ nào để xử lý.\")\n",
        "else:\n",
        "    print(\"Không tìm thấy tệp CSV hợp lệ trong thư mục.\")\n"
      ],
      "metadata": {
        "colab": {
          "base_uri": "https://localhost:8080/"
        },
        "id": "D61dqIiTWy57",
        "outputId": "ef19a7e3-3296-4888-bd66-11c395b49cd9"
      },
      "execution_count": null,
      "outputs": [
        {
          "output_type": "stream",
          "name": "stdout",
          "text": [
            "Đã đọc tệp: reviewhotel189.csv\n",
            "Đã đọc tệp: reviewhotel209.csv\n",
            "Đã đọc tệp: hotelsaigon190.csv\n",
            "Đã đọc tệp: hotelhanoi234.csv\n",
            "Đã đọc tệp: hotelhalong152.csv\n",
            "Đã đọc tệp: hotelvungtau158.csv\n",
            "Đã đọc tệp: hotelnhatrang262.csv\n",
            "Đã đọc tệp: hotelluxury207.csv\n",
            "Đã đọc tệp: hotelquan1-184.csv\n",
            "Đã đọc tệp: hotelcantho210.csv\n",
            "Đã đọc tệp: hoteldalat265.csv\n",
            "Đã đọc tệp: hotelgiare209.csv\n",
            "Đã đọc tệp: hotelphuquy170.csv\n",
            "Đã đọc tệp: hotelphuquoc234.csv\n",
            "Đã đọc tệp: hoteldanang159.csv\n",
            "Đã đọc tệp: hotelhue234.csv\n",
            "Đã đọc tệp: hoteldaklak100.csv\n",
            "Đã đọc tệp: hotelhoian234.csv\n",
            "Đã đọc tệp: hotelquangbinh238.csv\n",
            "Đã đọc tệp: hotelninhthuan260.csv\n",
            "Đã đọc tệp: hotelhaiphong214.csv\n",
            "Đã đọc tệp: hotelhagiang230.csv\n",
            "Đã đọc tệp: hoteltuyenquang210.csv\n",
            "Đã đọc tệp: #khachsan180lastest.csv\n",
            "Đã đọc tệp: review_resort3.csv\n",
            "Đã đọc tệp: homestay_oldest.csv\n",
            "Đã đọc tệp: review_resort2.csv\n",
            "Đã đọc tệp: reviewhomestay_latest.csv\n",
            "Đã đọc tệp: homestay_latest.csv\n",
            "Đã đọc tệp: #khachsan162.csv\n",
            "Đã đọc tệp: review_resort1.csv\n",
            "Đã đọc tệp: review_resort4.csv\n",
            "Đã đọc tệp: homestay_popular.csv\n",
            "Đã đọc tệp: reviewhomestay_oldest.csv\n",
            "Đã đọc tệp: resort3.csv\n",
            "Đã đọc tệp: reviewhomestay_popular.csv\n",
            "Đã đọc tệp: resort1.csv\n",
            "Đã đọc tệp: resort2.csv\n",
            "Đã đọc tệp: #reviewkhachsan500.csv\n",
            "   authorMeta/digg  authorMeta/fans  authorMeta/heart  \\\n",
            "0             8861            32300           1000000   \n",
            "1            14800           169500           5300000   \n",
            "\n",
            "                                         webVideoUrl   isAd  isSponsored  \\\n",
            "0  https://www.tiktok.com/@dannie.linhdan_/video/...  False        False   \n",
            "1  https://www.tiktok.com/@huyentranxx/video/7403...  False        False   \n",
            "\n",
            "   playCount  diggCount  commentCount  shareCount  videoMeta/duration  \\\n",
            "0    1200000      29900           672        4105                  70   \n",
            "1    2400000      58700          1146       21300                  46   \n",
            "\n",
            "              videoMeta/subtitleLinks/1/downloadLink  \\\n",
            "0  https://api.apify.com/v2/key-value-stores/cfrJ...   \n",
            "1  https://api.apify.com/v2/key-value-stores/cfrJ...   \n",
            "\n",
            "                                                text  \n",
            "0  Khach sạn đỉnh nhất Vũng Tàu trong lòng toai😋 ...  \n",
            "1  Khách sạn tui ở trên Đà Lạt nè mng 🌝 #trend #d...  \n"
          ]
        }
      ]
    },
    {
      "cell_type": "code",
      "source": [
        "final_df = final_df.drop_duplicates(subset='webVideoUrl', keep='first')"
      ],
      "metadata": {
        "id": "PLKR4xSkuCtp"
      },
      "execution_count": null,
      "outputs": []
    },
    {
      "cell_type": "code",
      "source": [
        "final_df.info()"
      ],
      "metadata": {
        "colab": {
          "base_uri": "https://localhost:8080/"
        },
        "id": "10z5EVeXuI82",
        "outputId": "03627a3b-e009-45e7-a072-e6cef703befa"
      },
      "execution_count": null,
      "outputs": [
        {
          "output_type": "stream",
          "name": "stdout",
          "text": [
            "<class 'pandas.core.frame.DataFrame'>\n",
            "Index: 1281 entries, 0 to 2305\n",
            "Data columns (total 13 columns):\n",
            " #   Column                                  Non-Null Count  Dtype \n",
            "---  ------                                  --------------  ----- \n",
            " 0   authorMeta/digg                         1281 non-null   int64 \n",
            " 1   authorMeta/fans                         1281 non-null   int64 \n",
            " 2   authorMeta/heart                        1281 non-null   int64 \n",
            " 3   webVideoUrl                             1281 non-null   object\n",
            " 4   isAd                                    1281 non-null   bool  \n",
            " 5   isSponsored                             1281 non-null   bool  \n",
            " 6   playCount                               1281 non-null   int64 \n",
            " 7   diggCount                               1281 non-null   int64 \n",
            " 8   commentCount                            1281 non-null   int64 \n",
            " 9   shareCount                              1281 non-null   int64 \n",
            " 10  videoMeta/duration                      1281 non-null   int64 \n",
            " 11  videoMeta/subtitleLinks/1/downloadLink  1281 non-null   object\n",
            " 12  text                                    1274 non-null   object\n",
            "dtypes: bool(2), int64(8), object(3)\n",
            "memory usage: 122.6+ KB\n"
          ]
        }
      ]
    },
    {
      "cell_type": "markdown",
      "source": [
        "# **Change script link suffix to pattern -vie-VN**"
      ],
      "metadata": {
        "id": "1NMt--EVZYqo"
      }
    },
    {
      "cell_type": "code",
      "source": [
        "def fix_subtitle_link(url):\n",
        "    if not url.endswith('-vie-VN'):\n",
        "        url = url.rsplit('-', 1)[0] + '-vie-VN'\n",
        "    return url\n",
        "\n",
        "final_df['videoMeta/subtitleLinks/1/downloadLink'] = final_df['videoMeta/subtitleLinks/1/downloadLink'].apply(fix_subtitle_link)"
      ],
      "metadata": {
        "id": "C2CCQmL7YQvW"
      },
      "execution_count": null,
      "outputs": []
    },
    {
      "cell_type": "code",
      "source": [
        "final_df.insert(0, 'id', ['video' + str(i).zfill(2) for i in range(1, len(final_df) + 1)])\n"
      ],
      "metadata": {
        "colab": {
          "base_uri": "https://localhost:8080/"
        },
        "id": "8JKmM2TdjSyB",
        "outputId": "dffa35e4-d375-4b52-b5a9-e47d28ebfaaf"
      },
      "execution_count": null,
      "outputs": [
        {
          "output_type": "stream",
          "name": "stdout",
          "text": [
            "<bound method NDFrame.head of              id  authorMeta/digg  authorMeta/fans  authorMeta/heart  \\\n",
            "0       video01             8861            32300           1000000   \n",
            "1       video02            14800           169500           5300000   \n",
            "2       video03            16700           200400           7300000   \n",
            "3       video04            43100            21500            477000   \n",
            "4       video05            13800           296600           6700000   \n",
            "...         ...              ...              ...               ...   \n",
            "2296  video1277              213             3218             78300   \n",
            "2298  video1278               72             1246             18000   \n",
            "2303  video1279             8420           172100           3300000   \n",
            "2304  video1280              644            25400            313400   \n",
            "2305  video1281              255             8586             13200   \n",
            "\n",
            "                                            webVideoUrl   isAd  isSponsored  \\\n",
            "0     https://www.tiktok.com/@dannie.linhdan_/video/...  False        False   \n",
            "1     https://www.tiktok.com/@huyentranxx/video/7403...  False        False   \n",
            "2     https://www.tiktok.com/@traanxngg/video/747518...  False        False   \n",
            "3     https://www.tiktok.com/@minh.travel/video/7321...  False        False   \n",
            "4     https://www.tiktok.com/@elricreviewer/video/73...  False        False   \n",
            "...                                                 ...    ...          ...   \n",
            "2296  https://www.tiktok.com/@mivandidauthe/video/75...  False        False   \n",
            "2298  https://www.tiktok.com/@longhaichannel.resort/...  False        False   \n",
            "2303  https://www.tiktok.com/@soccon113/video/743845...  False        False   \n",
            "2304  https://www.tiktok.com/@goldencampnamdu/video/...  False        False   \n",
            "2305  https://www.tiktok.com/@kenhcuatinan/video/749...  False        False   \n",
            "\n",
            "      playCount  diggCount  commentCount  shareCount  videoMeta/duration  \\\n",
            "0       1200000      29900           672        4105                  70   \n",
            "1       2400000      58700          1146       21300                  46   \n",
            "2        120500       3135            58        1487                  65   \n",
            "3         96500        523            35         589                  15   \n",
            "4       3500000      74500          2337       37800                  80   \n",
            "...         ...        ...           ...         ...                 ...   \n",
            "2296       3896        245            24          60                 229   \n",
            "2298      11600        242            20         109                  19   \n",
            "2303     208200       4786            79         228                  24   \n",
            "2304    1400000      13900           486         367                  31   \n",
            "2305      69800        734            58         207                  85   \n",
            "\n",
            "                 videoMeta/subtitleLinks/1/downloadLink  \\\n",
            "0     https://api.apify.com/v2/key-value-stores/cfrJ...   \n",
            "1     https://api.apify.com/v2/key-value-stores/cfrJ...   \n",
            "2     https://api.apify.com/v2/key-value-stores/cfrJ...   \n",
            "3     https://api.apify.com/v2/key-value-stores/cfrJ...   \n",
            "4     https://api.apify.com/v2/key-value-stores/cfrJ...   \n",
            "...                                                 ...   \n",
            "2296  https://api.apify.com/v2/key-value-stores/Qivr...   \n",
            "2298  https://api.apify.com/v2/key-value-stores/Qivr...   \n",
            "2303  https://api.apify.com/v2/key-value-stores/Qivr...   \n",
            "2304  https://api.apify.com/v2/key-value-stores/Qivr...   \n",
            "2305  https://api.apify.com/v2/key-value-stores/Qivr...   \n",
            "\n",
            "                                                   text  \n",
            "0     Khach sạn đỉnh nhất Vũng Tàu trong lòng toai😋 ...  \n",
            "1     Khách sạn tui ở trên Đà Lạt nè mng 🌝 #trend #d...  \n",
            "2     Đà Lạt lại có thêm một boutique hotel quá xinh...  \n",
            "3     Một chiếc khách sạn mình chắc chắn sẽ lựa chọn...  \n",
            "4     Resort view biển mà mình đã ở tại Phan Thiết🥰#...  \n",
            "...                                                 ...  \n",
            "2296  Kinh nghiệm đi du lịch Hong Kong tự túc không ...  \n",
            "2298  Trả lời @John Tran Gần Long Hải Channel Beach ...  \n",
            "2303  Mường Thanh Gia Lai về đêm...#review #fyp #rev...  \n",
            "2304  Từ TP. Hồ Chí Minh đi Quần Đảo Nam Du, Kiên Gi...  \n",
            "2305  Chuyến đi Long Hải khiến mình bất ngờ thật sự…...  \n",
            "\n",
            "[1281 rows x 14 columns]>\n"
          ]
        }
      ]
    },
    {
      "cell_type": "code",
      "source": [
        "final_df['videoMeta/subtitleLinks/1/downloadLink'].head(10)"
      ],
      "metadata": {
        "colab": {
          "base_uri": "https://localhost:8080/",
          "height": 398
        },
        "id": "KihrBPcoj0pP",
        "outputId": "9cc5d49d-73b5-4df0-c478-5c7ccc19a4a4"
      },
      "execution_count": null,
      "outputs": [
        {
          "output_type": "execute_result",
          "data": {
            "text/plain": [
              "0    https://api.apify.com/v2/key-value-stores/cfrJ...\n",
              "1    https://api.apify.com/v2/key-value-stores/cfrJ...\n",
              "2    https://api.apify.com/v2/key-value-stores/cfrJ...\n",
              "3    https://api.apify.com/v2/key-value-stores/cfrJ...\n",
              "4    https://api.apify.com/v2/key-value-stores/cfrJ...\n",
              "5    https://api.apify.com/v2/key-value-stores/cfrJ...\n",
              "6    https://api.apify.com/v2/key-value-stores/cfrJ...\n",
              "7    https://api.apify.com/v2/key-value-stores/cfrJ...\n",
              "8    https://api.apify.com/v2/key-value-stores/cfrJ...\n",
              "9    https://api.apify.com/v2/key-value-stores/cfrJ...\n",
              "Name: videoMeta/subtitleLinks/1/downloadLink, dtype: object"
            ],
            "text/html": [
              "<div>\n",
              "<style scoped>\n",
              "    .dataframe tbody tr th:only-of-type {\n",
              "        vertical-align: middle;\n",
              "    }\n",
              "\n",
              "    .dataframe tbody tr th {\n",
              "        vertical-align: top;\n",
              "    }\n",
              "\n",
              "    .dataframe thead th {\n",
              "        text-align: right;\n",
              "    }\n",
              "</style>\n",
              "<table border=\"1\" class=\"dataframe\">\n",
              "  <thead>\n",
              "    <tr style=\"text-align: right;\">\n",
              "      <th></th>\n",
              "      <th>videoMeta/subtitleLinks/1/downloadLink</th>\n",
              "    </tr>\n",
              "  </thead>\n",
              "  <tbody>\n",
              "    <tr>\n",
              "      <th>0</th>\n",
              "      <td>https://api.apify.com/v2/key-value-stores/cfrJ...</td>\n",
              "    </tr>\n",
              "    <tr>\n",
              "      <th>1</th>\n",
              "      <td>https://api.apify.com/v2/key-value-stores/cfrJ...</td>\n",
              "    </tr>\n",
              "    <tr>\n",
              "      <th>2</th>\n",
              "      <td>https://api.apify.com/v2/key-value-stores/cfrJ...</td>\n",
              "    </tr>\n",
              "    <tr>\n",
              "      <th>3</th>\n",
              "      <td>https://api.apify.com/v2/key-value-stores/cfrJ...</td>\n",
              "    </tr>\n",
              "    <tr>\n",
              "      <th>4</th>\n",
              "      <td>https://api.apify.com/v2/key-value-stores/cfrJ...</td>\n",
              "    </tr>\n",
              "    <tr>\n",
              "      <th>5</th>\n",
              "      <td>https://api.apify.com/v2/key-value-stores/cfrJ...</td>\n",
              "    </tr>\n",
              "    <tr>\n",
              "      <th>6</th>\n",
              "      <td>https://api.apify.com/v2/key-value-stores/cfrJ...</td>\n",
              "    </tr>\n",
              "    <tr>\n",
              "      <th>7</th>\n",
              "      <td>https://api.apify.com/v2/key-value-stores/cfrJ...</td>\n",
              "    </tr>\n",
              "    <tr>\n",
              "      <th>8</th>\n",
              "      <td>https://api.apify.com/v2/key-value-stores/cfrJ...</td>\n",
              "    </tr>\n",
              "    <tr>\n",
              "      <th>9</th>\n",
              "      <td>https://api.apify.com/v2/key-value-stores/cfrJ...</td>\n",
              "    </tr>\n",
              "  </tbody>\n",
              "</table>\n",
              "</div><br><label><b>dtype:</b> object</label>"
            ]
          },
          "metadata": {},
          "execution_count": 12
        }
      ]
    },
    {
      "cell_type": "code",
      "source": [
        "final_df.to_csv(\"/content/drive/MyDrive/pizza/CÔNG NGHỆ ĐỔI MỚI (1)/CUỐI KỲ/UP file csv lên/#merge_test1281.csv\")"
      ],
      "metadata": {
        "id": "ky20ehejYYOp"
      },
      "execution_count": null,
      "outputs": []
    },
    {
      "cell_type": "markdown",
      "source": [
        "# **Extract script video**"
      ],
      "metadata": {
        "id": "JJz8E0EEvO5M"
      }
    },
    {
      "cell_type": "code",
      "source": [
        "final_df['script_video'] = ''"
      ],
      "metadata": {
        "id": "LKCKB8S7YA8q"
      },
      "execution_count": null,
      "outputs": []
    },
    {
      "cell_type": "code",
      "source": [
        "output_folder = \"/content/drive/MyDrive/pizza/CÔNG NGHỆ ĐỔI MỚI (1)/CUỐI KỲ/UP file csv lên/script/\"\n",
        "\n",
        "for index, row in final_df.iterrows():\n",
        "    video_id = row['id']\n",
        "    txt_filename = os.path.join(output_folder, f\"{video_id}.txt\")\n",
        "\n",
        "    try:\n",
        "        with open(txt_filename, \"r\", encoding=\"utf-8\") as f:\n",
        "            script_content = f.read()\n",
        "            final_df.loc[index, 'script_video'] = script_content\n",
        "    except FileNotFoundError:\n",
        "        print(f\"Không tìm thấy tệp script cho video_id: {video_id}\")"
      ],
      "metadata": {
        "id": "SvACe3wYYCDK"
      },
      "execution_count": null,
      "outputs": []
    },
    {
      "cell_type": "code",
      "source": [
        "final_df['script_video'].iloc[190]"
      ],
      "metadata": {
        "colab": {
          "base_uri": "https://localhost:8080/",
          "height": 157
        },
        "id": "_UmwcDlPYEO6",
        "outputId": "b05b0e48-c907-49c2-9eb4-674a23d69315"
      },
      "execution_count": null,
      "outputs": [
        {
          "output_type": "execute_result",
          "data": {
            "text/plain": [
              "'với giá chưa đến 300 k\\nkhách sạn 4 SAO ở Nha Trang view biển bình Minh xinh cỡ này\\nNha Trang biển đẹp\\nđồ ăn lại ngon mà giá khách sạn cũng rẻ quá trời luôn\\nphòng tui ở là khách sạn sania tầng 18\\nsăn được qua chevroletca có a mã giảm giá\\nvới lại do tui đi ngày thường\\nnên phòng này tui thuê chỉ có giá hơn 500 k thôi\\nchia Ra chưa đến 300 k một người hạng\\nphòng tui để ở trên video để mấy bà tham khảo nha\\nkhách sạn còn có buffet sáng bể bơi\\nphòng tập gym nữa đó\\nnhưng mà hôm tui đi quên mất\\nnên không có trải nghiệm hết được ưng\\nnhất phải kể đến cái view biển lúc bình Minh\\ntrời ơi nó xinh xỉu luôn í\\ncỡ này rất phù hợp với những bà thích đi du lịch\\nhưu Linh nhưng lại ngại Bon Chen ngoài đường giống như tui'"
            ],
            "application/vnd.google.colaboratory.intrinsic+json": {
              "type": "string"
            }
          },
          "metadata": {},
          "execution_count": 30
        }
      ]
    }
  ]
}