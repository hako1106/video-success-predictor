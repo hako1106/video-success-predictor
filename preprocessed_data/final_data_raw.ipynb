{
 "cells": [
  {
   "cell_type": "code",
   "execution_count": null,
   "id": "03890baf",
   "metadata": {},
   "outputs": [],
   "source": [
    "import pandas as pd\n",
    "import os\n",
    "import glob\n",
    "\n",
    "folder_path = r\"C:\\Study\\Nhom7CNDM\\cuoiki\\data\\video-success-predictor\\data_tiktok\"\n",
    "\n",
    "csv_files = glob.glob(os.path.join(folder_path, \"*.csv\"))\n",
    "\n",
    "all_dataframes = [pd.read_csv(file) for file in csv_files]\n",
    "combined_df = pd.concat(all_dataframes, ignore_index=True)\n",
    "\n",
    "print(\"Tổng số dòng:\", len(combined_df))\n",
    "\n",
    "combined_df.to_csv(os.path.join(folder_path, \"final_data_raw.csv\"), index=False)"
   ]
  }
 ],
 "metadata": {
  "language_info": {
   "name": "python"
  }
 },
 "nbformat": 4,
 "nbformat_minor": 5
}
